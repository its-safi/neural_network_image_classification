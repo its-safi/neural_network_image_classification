{
 "cells": [
  {
   "cell_type": "markdown",
   "id": "f0ea4f10",
   "metadata": {},
   "source": [
    "## Food Image Classifier\n",
    "\n",
    "###  Real world applications\n",
    "\n",
    "#### 1. Ingredient Based Recommendation\n",
    "#### 2. Nutrition Based Recommendation\n"
   ]
  },
  {
   "cell_type": "markdown",
   "id": "3183d3fd",
   "metadata": {},
   "source": [
    "### INGREDIENT BASED RECOMMNDATION"
   ]
  },
  {
   "cell_type": "code",
   "execution_count": null,
   "id": "6dee4695",
   "metadata": {},
   "outputs": [],
   "source": [
    "# -*- coding: utf-8 -*-\n",
    "\"\"\"\n",
    "Created on Sat Nov 27 17:38:01 2021\n",
    "\n",
    "@author: Safi\n",
    "\"\"\"\n",
    "import numpy as np\n",
    "import pandas as pd\n",
    "import os\n",
    "%matplotlib inline\n",
    "from tensorflow.keras.preprocessing.image import load_img\n",
    "\n",
    "def open_images(paths):\n",
    "    '''\n",
    "    Opens a batch of images, given the image path(s) as a list\n",
    "    '''\n",
    "    images = []\n",
    "    for path in paths:\n",
    "        image = load_img(path, target_size=(224,224))\n",
    "        image = np.array(image)/255.0\n",
    "        images.append(image)\n",
    "    return np.array(images)\n",
    "            \n",
    "def run_prediction(test_paths):\n",
    "\n",
    "    saved_models_path = os.path.join(os.getcwd(),'saved_models','model_ResNet_fit_101.h5')\n",
    "    from tensorflow.keras.models import load_model\n",
    "    ressnet50_101classes = load_model(saved_models_path)\n",
    "\n",
    "    predicted_vals = []\n",
    "    predicted_dish_array = []\n",
    "    for x in range(0,len(test_paths)) : \n",
    "        images = open_images([test_paths[x]])\n",
    "        predicted = ressnet50_101classes.predict(images)[0]\n",
    "        predicted = np.argmax(predicted)\n",
    "        print('-------------------------------------------------------------')\n",
    "        print('result : ' , x ,  ' -- ' , predicted , ' -- ' , food_classes[predicted] )\n",
    "        print('-------------------------------------------------------------')\n",
    "        predicted_dish_index=predicted\n",
    "        predicted_vals.append([x,predicted])\n",
    "        predicted_dish_array.append(predicted_dish_index)\n",
    "        \n",
    "    return(predicted_dish_index , predicted_dish_array)"
   ]
  },
  {
   "cell_type": "code",
   "execution_count": null,
   "id": "d699cd86",
   "metadata": {
    "scrolled": false
   },
   "outputs": [],
   "source": [
    "\n",
    "ingredients_file = os.path.join(os.getcwd(), 'Input' , 'ingredients_list.csv')\n",
    "df=pd.read_csv(ingredients_file)\n",
    "food_classes = list(df['f_class'])\n",
    "\n",
    "\n",
    "test_dir = os.path.join(os.getcwd() , 'previous_meal\\\\')\n",
    "test_paths = []\n",
    "\n",
    "for label in os.listdir(test_dir):\n",
    "        test_paths.append(os.path.join(test_dir,label))\n",
    "\n",
    "\n",
    "from IPython.display import Image\n",
    "Image(filename=test_paths[0] , width = 300, height = 300) "
   ]
  },
  {
   "cell_type": "code",
   "execution_count": null,
   "id": "c4c1eaf9",
   "metadata": {},
   "outputs": [],
   "source": [
    "#NOTE : MODEL USED RESNET50 v2\n",
    "#NOTE : Number of Classes - 101\n",
    "\n",
    "predicted_dish_index , predicted_dish_array= run_prediction(test_paths)"
   ]
  },
  {
   "cell_type": "code",
   "execution_count": null,
   "id": "68889a90",
   "metadata": {
    "scrolled": false
   },
   "outputs": [],
   "source": [
    "\n",
    "##########################################################################################################\n",
    "\n",
    "\n",
    "def get_relative_score(check_recipe  , chosen_recipe   )  : \n",
    "    f_class = check_recipe['f_class']\n",
    "    check_recipe = check_recipe['core_ingr']\n",
    "    row_details = []\n",
    "    check_recipe = check_recipe.replace(';' , ' ')\n",
    "    document_1_words = chosen_recipe.split()\n",
    "    document_2_words = check_recipe.split()\n",
    "    common = list(set(document_1_words).intersection( set(document_2_words) ))\n",
    "    common_score = len(common)\n",
    "    common = ','.join(common)\n",
    "    \n",
    "    additional_ingredients = list(set(document_2_words).difference( set(document_1_words) ))\n",
    "    additional_score = len(additional_ingredients)\n",
    "    additional_ingredients=','.join(additional_ingredients)\n",
    "    \n",
    "    ease_of_making = common_score/(common_score+additional_score)\n",
    "    \n",
    "    row_details=[f_class , common , additional_ingredients , common_score , additional_score , ease_of_making]\n",
    "    return(row_details)\n",
    "\n",
    "\n",
    "\n",
    "\n",
    "chosen_dish = food_classes[predicted_dish_index] \n",
    "chosen_recipe = df[df['f_class']==chosen_dish]['core_ingr'][predicted_dish_index]\n",
    "chosen_recipe=chosen_recipe.strip()\n",
    "chosen_recipe = chosen_recipe.replace(';' , ' ')\n",
    "\n",
    "rd = df.apply(get_relative_score, chosen_recipe = chosen_recipe , axis = 1 )\n",
    "common_ingredients_dataframe = pd.DataFrame(list(rd) , columns = ['f_class','common_ingredients','additional_ingredients','common_score', 'additional_score' , 'ease_of_making'])\n",
    "\n",
    "ingredient_recommendation = common_ingredients_dataframe.sort_values(['ease_of_making'] , ascending = False)\n",
    "\n",
    "chosen_dish_ingredients = ingredient_recommendation[ingredient_recommendation['f_class'] == chosen_dish]\n",
    "ingredient_recommendation = ingredient_recommendation[ingredient_recommendation['f_class'] != chosen_dish]\n",
    "\n",
    "chosen_dish_ingredients = chosen_dish_ingredients.common_ingredients.T\n",
    "chosen_dish_ingredients\n",
    "number_of_top_dishes = 5\n",
    "\n",
    "ingredient_recommendation = ingredient_recommendation.head(number_of_top_dishes)\n",
    "\n",
    "print('Dish Identified from Image : ', chosen_dish)\n",
    "\n",
    "display(pd.DataFrame(chosen_dish_ingredients.values[0].split(',') , columns = ['Ingredients'] ).style.hide_index())\n",
    "\n",
    "ingredient_recc_op1 = ingredient_recommendation[['f_class','common_score','additional_score' , 'additional_ingredients']]\n",
    "ingredient_recc_op1=ingredient_recc_op1.rename(columns={\"f_class\": \"Dish\" , 'common_score' : 'Common Ingredients', 'additional_score':'Additional Ingredients' , 'additional_ingredients':'List Of Additional Ingredients'})\n",
    "ingredient_recc_op1.set_index('Dish')\n",
    "\n",
    "\n",
    "\n",
    "############################################################################################################\n"
   ]
  },
  {
   "cell_type": "code",
   "execution_count": null,
   "id": "d5b29bda",
   "metadata": {
    "scrolled": false
   },
   "outputs": [],
   "source": [
    "#Ingredinet Based Recommendation  : 2\n",
    "test_dir = os.path.join(os.getcwd() , 'previous_meal_2\\\\')\n",
    "test_paths = []\n",
    "\n",
    "for label in os.listdir(test_dir):\n",
    "        test_paths.append(os.path.join(test_dir,label))\n",
    "\n",
    "from IPython.display import Image\n",
    "Image(filename=test_paths[0] , width = 300, height = 300) "
   ]
  },
  {
   "cell_type": "code",
   "execution_count": null,
   "id": "4a728535",
   "metadata": {},
   "outputs": [],
   "source": [
    "predicted_dish_index , predicted_dish_array   = run_prediction(test_paths)"
   ]
  },
  {
   "cell_type": "code",
   "execution_count": null,
   "id": "dee65239",
   "metadata": {},
   "outputs": [],
   "source": [
    "chosen_dish = food_classes[predicted_dish_index] \n",
    "chosen_recipe = df[df['f_class']==chosen_dish]['core_ingr'][predicted_dish_index]\n",
    "chosen_recipe=chosen_recipe.strip()\n",
    "chosen_recipe = chosen_recipe.replace(';' , ' ')\n",
    "\n",
    "rd = df.apply(get_relative_score, chosen_recipe = chosen_recipe , axis = 1 )\n",
    "common_ingredients_dataframe = pd.DataFrame(list(rd) , columns = ['f_class','common_ingredients','additional_ingredients','common_score', 'additional_score' , 'ease_of_making'])\n",
    "\n",
    "ingredient_recommendation = common_ingredients_dataframe.sort_values(['ease_of_making'] , ascending = False)\n",
    "\n",
    "chosen_dish_ingredients = ingredient_recommendation[ingredient_recommendation['f_class'] == chosen_dish]\n",
    "ingredient_recommendation = ingredient_recommendation[ingredient_recommendation['f_class'] != chosen_dish]\n",
    "\n",
    "chosen_dish_ingredients = chosen_dish_ingredients.common_ingredients.T\n",
    "chosen_dish_ingredients\n",
    "\n",
    "number_of_top_dishes = 1\n",
    "\n",
    "ingredient_recommendation = ingredient_recommendation.head(number_of_top_dishes)\n",
    "\n",
    "print('Dish Identified from Image : ', chosen_dish)\n",
    "\n",
    "display(pd.DataFrame(chosen_dish_ingredients.values[0].split(',') , columns = ['Ingredients'] ).style.hide_index())\n",
    "\n",
    "ingredient_recc_op1 = ingredient_recommendation[['f_class','common_score','additional_score' , 'additional_ingredients']]\n",
    "ingredient_recc_op1=ingredient_recc_op1.rename(columns={\"f_class\": \"Dish\" , 'common_score' : 'Common Ingredients', 'additional_score':'Additional Ingredients' , 'additional_ingredients':'List Of Additional Ingredients'})\n",
    "ingredient_recc_op1.set_index('Dish')\n"
   ]
  },
  {
   "cell_type": "markdown",
   "id": "59cca75c",
   "metadata": {},
   "source": [
    "### Nutrition Based Recommendation"
   ]
  },
  {
   "cell_type": "code",
   "execution_count": null,
   "id": "7755ab5c",
   "metadata": {
    "scrolled": true
   },
   "outputs": [],
   "source": [
    "#Calculate Reuirements as per User Macros\n",
    "gender = input(\"gender (Male/Female): \")\n",
    "weight = float(input(\"Weight (kg) : \"))\n",
    "height = float(input(\"Height (cm) : \"))\n",
    "age = int(input(\"Age (Years) : \")) \n",
    "\n",
    "print('''\n",
    "Choose Activity Level (Enter Option Only : )\n",
    "1. Sedentary (Little or No Excercise)\n",
    "2. Lightly Active (Excercise one to three days a week)\n",
    "3. Moderately Active (Excercise three to five days a week)\n",
    "4. Active (Excercise six to seven days a week)\n",
    "5. Very Active (Hard Excercise six to seven days a week)\n",
    "''')\n",
    "activity_level = int(input(\"Activity Level : \")) \n"
   ]
  },
  {
   "cell_type": "code",
   "execution_count": null,
   "id": "36e7743f",
   "metadata": {
    "scrolled": true
   },
   "outputs": [],
   "source": [
    "\n",
    "def get_activity_coeff(activity_level_param):\n",
    "    if(activity_level_param ==1):\n",
    "        return 1.2\n",
    "    if(activity_level_param ==2):\n",
    "        return 1.375\n",
    "    if(activity_level_param ==3):\n",
    "        return 1.55\n",
    "    if(activity_level_param ==4):\n",
    "        return 1.725\n",
    "    if(activity_level_param ==5):\n",
    "        return 1.9\n",
    "    \n",
    "    \n",
    "activity_coef =  get_activity_coeff(activity_level)       \n",
    "        \n",
    "if(gender == 'Male'): \n",
    "    bmr = 655.1 + (9.653 * weight) + (1.850 * 183) - (4.676 * age)\n",
    "else:\n",
    "    bmr = 66.47 + (13.75 * weight) + (5.003 * 183) - (6.755 * age)\n",
    "    \n",
    "calories_required = bmr * activity_coef\n",
    "\n",
    "protein_required = (65/2000) * calories_required\n",
    "carb_required = (280/2000 ) * calories_required\n",
    "fats_required = (60/2000) * calories_required\n",
    "cumulative_required = protein_required + carb_required + fats_required"
   ]
  },
  {
   "cell_type": "code",
   "execution_count": null,
   "id": "ed0965ae",
   "metadata": {},
   "outputs": [],
   "source": [
    "print('As per given Macros : ')\n",
    "print('' )\n",
    "print('Daily Calories Required : ' , round(calories_required,4) , 'kcal')\n",
    "print('Daily Protein Required  : ' , round(protein_required, 4) ,  'g')\n",
    "print('Daily Carb Required     : ' , round(carb_required,    4) ,  'g')\n",
    "print('Daily Fat Required      : ' , round(fats_required ,   4) ,  'g')"
   ]
  },
  {
   "cell_type": "code",
   "execution_count": null,
   "id": "b787bb18",
   "metadata": {},
   "outputs": [],
   "source": [
    "%matplotlib inline\n",
    "test_dir = os.path.join(os.getcwd() , 'day_meals\\\\')\n",
    "test_paths = []\n",
    "\n",
    "for label in os.listdir(test_dir):\n",
    "        test_paths.append(os.path.join(test_dir,label))\n",
    "      \n",
    "print(' Breakfast ')\n",
    "from IPython.display import Image\n",
    "Image(filename=test_paths[0] , width = 500, height = 500) \n"
   ]
  },
  {
   "cell_type": "code",
   "execution_count": null,
   "id": "18902b39",
   "metadata": {},
   "outputs": [],
   "source": [
    "print(' LUNCH ')\n",
    "from IPython.display import Image\n",
    "Image(filename=test_paths[1] , width = 500, height = 500) "
   ]
  },
  {
   "cell_type": "code",
   "execution_count": null,
   "id": "dd2a1ce4",
   "metadata": {},
   "outputs": [],
   "source": [
    "predicted_dish_index , predicted_dish_array = run_prediction(test_paths)\n",
    "print(predicted_dish_array)\n"
   ]
  },
  {
   "cell_type": "code",
   "execution_count": null,
   "id": "b09a144f",
   "metadata": {},
   "outputs": [],
   "source": [
    "import pandas as pd\n",
    "nutr_df = pd.read_csv('nutrition_df2.csv', index_col = 'Unnamed: 0')\n",
    "nutr_df = nutr_df.fillna('0g')\n",
    "nutr_df.index = nutr_df.index.set_names(['nutrient'])\n",
    "nutr_df= nutr_df.reset_index()\n",
    "nutr_df = nutr_df[nutr_df['nutrient'].isin(['Calories','Protein','Carbohydrates','Fat'])]\n",
    "\n",
    "\n",
    "nutr_df.columns = ['nutrient'] + food_classes\n",
    "nutr_df = nutr_df.T\n",
    "new_header = nutr_df.iloc[0]\n",
    "nutr_df = nutr_df[1:]\n",
    "nutr_df.columns = new_header\n",
    "nutr_df.index = nutr_df.index.set_names(['f_class'])\n",
    "nutr_df=nutr_df.reset_index()\n",
    "\n",
    "cal_d1 = 0\n",
    "fat_d1 = 0\n",
    "prot_d1 = 0\n",
    "carb_d1 = 0\n",
    "\n",
    "import re\n",
    "def remove_characters(rawdata):\n",
    "    rawdata2 = re.sub('[^0-9,.]', '', rawdata)\n",
    "    return float(rawdata2)\n",
    "\n",
    "\n",
    "dishes_chosen = []\n",
    "for dish_index in predicted_dish_array:\n",
    "    chosen_dish = food_classes[dish_index] \n",
    "    dishes_chosen.append(chosen_dish)\n",
    "    cal_d1 = cal_d1 + remove_characters(nutr_df[nutr_df['f_class'] == chosen_dish].Calories.values[0])\n",
    "    fat_d1 = fat_d1 + remove_characters(nutr_df[nutr_df['f_class'] == chosen_dish].Fat.values[0])\n",
    "    prot_d1 = prot_d1 + remove_characters(nutr_df[nutr_df['f_class'] == chosen_dish].Protein.values[0])\n",
    "    carb_d1 = carb_d1 + remove_characters(nutr_df[nutr_df['f_class'] == chosen_dish].Carbohydrates.values[0])\n",
    "\n",
    "filt_nutr_df = nutr_df[~nutr_df['f_class'].isin(dishes_chosen)]\n",
    "\n",
    "result_set = pd.DataFrame(columns = ['f_class','cal_deficit','protein_deficit','carb_deficit','fat_deficit' , 'best_meal'])\n",
    "\n",
    "i=0\n",
    "for index, row in filt_nutr_df.iterrows():\n",
    "    cal_deficit = calories_required - cal_d1 - remove_characters(row.Calories)\n",
    "    protein_deficit = protein_required - prot_d1 - remove_characters(row.Protein)\n",
    "    carb_deficit = carb_required - carb_d1 - remove_characters(row.Carbohydrates)\n",
    "    fat_deficit = fats_required - fat_d1 - remove_characters(row.Fat)\n",
    "    best_meal = abs(protein_deficit) + abs(carb_deficit) + abs(fat_deficit)\n",
    "    result_set.loc[i] = [row.f_class , cal_deficit , protein_deficit , carb_deficit ,fat_deficit , best_meal ]\n",
    "    i+=1\n",
    "    \n",
    "nutrient_recommended_meal = result_set.sort_values('best_meal')\n",
    "nutrient_recommended_meal.head(3).set_index('f_class')"
   ]
  },
  {
   "cell_type": "code",
   "execution_count": null,
   "id": "d8076baa",
   "metadata": {},
   "outputs": [],
   "source": [
    "print('Meal Chosen : ')\n",
    "display(nutrient_recommended_meal.head(1).set_index('f_class'))"
   ]
  },
  {
   "cell_type": "code",
   "execution_count": null,
   "id": "835bef09",
   "metadata": {},
   "outputs": [],
   "source": [
    "\n",
    "dishes_of_day = [ food_classes[predicted_dish_array[1]] , food_classes[predicted_dish_array[0]] , nutrient_recommended_meal.f_class.values[0] ]\n",
    "nutrients = ['Protein' , 'Fat'  , 'Carbohydrates']\n",
    "nutrient_values = { 'Protein' : [] , 'Fat' : [] , 'Carbohydrates' : [] }\n",
    "for nut in nutrients : \n",
    "    for dish in dishes_of_day :\n",
    "        meal_1 = remove_characters(nutr_df[nutr_df['f_class'] == dish][nut].values[0])\n",
    "        sum_current_nut = sum(nutrient_values[nut])\n",
    "        nutrient_values[nut].append(sum_current_nut + meal_1 )\n",
    "nutrient_values=pd.DataFrame(nutrient_values)\n",
    "nutrient_values['cumulative_nutrients'] = nutrient_values.sum(axis=1)\n",
    "nutrient_values= nutrient_values.set_index([pd.Index(['Breakfast','Lunch','Dinner'])])"
   ]
  },
  {
   "cell_type": "code",
   "execution_count": null,
   "id": "bbf00d79",
   "metadata": {},
   "outputs": [],
   "source": [
    "from matplotlib import pyplot as plt\n",
    "\n",
    "f = plt.figure()\n",
    "f.set_figwidth(9)\n",
    "f.set_figheight(9)\n",
    "\n",
    "nutrient_values.cumulative_nutrients.plot( label = 'Daily Nutrients Consumed')\n",
    "plt.axhline(y=cumulative_required, color='r', linestyle='-.' , label='Daily Nutrient Goal')\n",
    "plt.title('Cumilative Nutrient Requirements', fontdict=None, loc=None)\n",
    "plt.ylim([0, 700])\n",
    "plt.legend()\n"
   ]
  }
 ],
 "metadata": {
  "kernelspec": {
   "display_name": "Python 3",
   "language": "python",
   "name": "python3"
  },
  "language_info": {
   "codemirror_mode": {
    "name": "ipython",
    "version": 3
   },
   "file_extension": ".py",
   "mimetype": "text/x-python",
   "name": "python",
   "nbconvert_exporter": "python",
   "pygments_lexer": "ipython3",
   "version": "3.8.8"
  }
 },
 "nbformat": 4,
 "nbformat_minor": 5
}
